{
 "cells": [
  {
   "cell_type": "code",
   "execution_count": 38,
   "metadata": {},
   "outputs": [],
   "source": [
    "def sfida_singola(iterazioni,carri_difesa,carri_attacco):\n",
    "    import random\n",
    "    \n",
    "    win_dif=0\n",
    "    win_att=0\n",
    "    cd=carri_difesa\n",
    "    ca=carri_attacco\n",
    "    media_rimasti_win=[0,0]\n",
    "    for i in range(iterazioni):\n",
    "        carri_difesa=cd\n",
    "        carri_attacco=ca\n",
    "        while carri_difesa>0 and carri_attacco>0:\n",
    "            carri_persi_att=0\n",
    "            carri_persi_dif=0\n",
    "            dado_dif=[]\n",
    "            dado_att=[]\n",
    "            \n",
    "            if carri_difesa>1:\n",
    "                dadi_difesa=2\n",
    "            else:\n",
    "                dadi_difesa=1\n",
    "            \n",
    "            if carri_attacco>2:\n",
    "                dadi_attacco=3\n",
    "            elif carri_attacco==2:\n",
    "                dadi_attacco=2\n",
    "            else:\n",
    "                dadi_attacco=1\n",
    "                \n",
    "            for j in range(dadi_difesa):\n",
    "                dado_dif.append(random.randint(1,6))\n",
    "            for j in range(dadi_attacco):\n",
    "                dado_att.append(random.randint(1,6))\n",
    "            \n",
    "            dado_dif.sort(reverse=True)\n",
    "            dado_att.sort(reverse=True)\n",
    "            \n",
    "            #print(dado_dif,dado_att)\n",
    "            \n",
    "            if dadi_difesa < dadi_attacco:\n",
    "                for k in range(dadi_difesa):\n",
    "                    if dado_dif[k] < dado_att[k]:\n",
    "                        carri_persi_dif = carri_persi_dif +1\n",
    "                    else:\n",
    "                        carri_persi_att = carri_persi_att +1\n",
    "            else:\n",
    "                for k in range(dadi_attacco):\n",
    "                    if dado_dif[k] < dado_att[k]:\n",
    "                        carri_persi_dif = carri_persi_dif +1\n",
    "                    else:\n",
    "                        carri_persi_att = carri_persi_att +1\n",
    "            carri_difesa = carri_difesa - carri_persi_dif\n",
    "            carri_attacco = carri_attacco - carri_persi_att\n",
    "            \n",
    "            #print(\"difesa: \" + str(carri_difesa) + \"   attacco: \" + str(carri_attacco))\n",
    "        \n",
    "        \n",
    "        if carri_difesa==0:\n",
    "            win_att=win_att+1\n",
    "        else:\n",
    "            win_dif=win_dif+1\n",
    "        \n",
    "        media_rimasti_win=[media_rimasti_win[0]+carri_difesa, media_rimasti_win[1]+carri_attacco]\n",
    "        #print(media_rimasti_win)\n",
    "        \n",
    "    \n",
    "    if win_dif==0:\n",
    "        media_rimasti_win=[0, float(media_rimasti_win[1])/win_att]\n",
    "    elif win_att ==0:\n",
    "        media_rimasti_win=[float(media_rimasti_win[0])/win_dif,0]\n",
    "    else:\n",
    "        media_rimasti_win=[float(media_rimasti_win[0])/win_dif, float(media_rimasti_win[1])/win_att]\n",
    "    #print(media_rimasti_win)\n",
    "    \n",
    "    \n",
    "    percentuale_att = (float(win_att)*100)/ iterazioni\n",
    "    #print(\"Percentuale di vittorie dell'attaccante: \" + str(percentuale_att) + \"%\")\n",
    "    \n",
    "    statistiche={\"percentuale vittoria attacco\":percentuale_att,\n",
    "                \"media carri rimasti quando vincono\":media_rimasti_win}\n",
    "    \n",
    "    return statistiche\n",
    "    #print(\"Difese vinte: \" + str(win_dif) + \"\\n\" + \"Attacchi vinti: \" + str(win_att))"
   ]
  },
  {
   "cell_type": "code",
   "execution_count": 91,
   "metadata": {},
   "outputs": [],
   "source": [
    "def strategia(iterazioni,carri_difesa,carri_attacco,perc_minima):\n",
    "    percentuali=[[sfida_singola(iterazioni,colonna,riga)[\"percentuale vittoria attacco\"] for colonna in range(1,carri_difesa+1)] for riga in range(1,carri_attacco+1)]\n",
    "    \n",
    "    lunghezza=11\n",
    "    \n",
    "    print(\"Numero difensori\")\n",
    "    for riga in range(carri_attacco):\n",
    "        a=[]\n",
    "        \n",
    "        for colonna in range(carri_difesa):\n",
    "            a.append(str(percentuali[riga][colonna]))\n",
    "            if colonna==0 and riga==0:\n",
    "                b=[\" \"*lunghezza]+[str(i) for i in range(1,carri_difesa+1)]\n",
    "                for l in range(len(b)-1):\n",
    "                    while len(b[l+1])<lunghezza:\n",
    "                        b[l+1]=b[l+1]+\" \"\n",
    "                print(\"\".join(b) + \"\\n\")\n",
    "            \n",
    "            \n",
    "            while len(a[colonna]) < lunghezza:\n",
    "                a[colonna]=a[colonna]+\" \"\n",
    "        frase=\"\".join(a)\n",
    "        \n",
    "        fr= str(riga+1) + \" att:\"\n",
    "        while len(fr)< lunghezza:\n",
    "            fr=fr+\" \"\n",
    "        \n",
    "        print(fr + frase)\n",
    "    \n",
    "    \n",
    "    \n",
    "    \n",
    "    print(\"\\n\\n\\nPer avere il \" + str(perc_minima) + \"% di vittoria attacca se sei:\")\n",
    "    for riga in range(carri_attacco):\n",
    "        flag=0\n",
    "        for colonna in range(carri_difesa):\n",
    "            if perc_minima <= percentuali[riga][colonna]:\n",
    "                flag=colonna+1\n",
    "        print(str(riga+1) + \" contro al più \" + str(flag) + \" difensori\")"
   ]
  },
  {
   "cell_type": "code",
   "execution_count": 90,
   "metadata": {},
   "outputs": [
    {
     "data": {
      "text/plain": [
       "{'percentuale vittoria attacco': 45.67,\n",
       " 'media carri rimasti quando vincono': [5.527148904840788, 5.010291219619006]}"
      ]
     },
     "execution_count": 90,
     "metadata": {},
     "output_type": "execute_result"
    }
   ],
   "source": [
    "sfida_singola(10000,15,13)"
   ]
  },
  {
   "cell_type": "markdown",
   "metadata": {},
   "source": [
    "strategia(10000,10,20,90)"
   ]
  },
  {
   "cell_type": "code",
   "execution_count": 87,
   "metadata": {},
   "outputs": [
    {
     "data": {
      "text/plain": [
       "[[100.0, 0.0, 0.0, 0.0, 0.0, 0.0, 0.0, 0.0, 0.0, 0.0, 0.0],\n",
       " [100.0, 43.0, 12.0, 4.0, 0.0, 0.0, 0.0, 0.0, 0.0, 0.0, 0.0],\n",
       " [100.0, 74.0, 43.0, 17.0, 9.0, 7.0, 5.0, 2.0, 0.0, 1.0, 0.0],\n",
       " [100.0, 92.0, 67.0, 42.0, 28.0, 16.0, 21.0, 7.0, 6.0, 3.0, 5.0],\n",
       " [100.0, 95.0, 69.0, 61.0, 41.0, 41.0, 27.0, 17.0, 8.0, 12.0, 9.0],\n",
       " [100.0, 99.0, 90.0, 79.0, 56.0, 45.0, 47.0, 34.0, 21.0, 16.0, 7.0],\n",
       " [100.0, 100.0, 96.0, 85.0, 69.0, 64.0, 57.0, 48.0, 38.0, 20.0, 17.0],\n",
       " [100.0, 100.0, 95.0, 87.0, 81.0, 66.0, 71.0, 51.0, 49.0, 38.0, 28.0],\n",
       " [100.0, 100.0, 99.0, 96.0, 91.0, 77.0, 72.0, 64.0, 51.0, 43.0, 38.0],\n",
       " [100.0, 100.0, 97.0, 96.0, 98.0, 87.0, 85.0, 73.0, 65.0, 51.0, 44.0],\n",
       " [100.0, 100.0, 100.0, 99.0, 92.0, 93.0, 87.0, 91.0, 77.0, 62.0, 55.0]]"
      ]
     },
     "execution_count": 87,
     "metadata": {},
     "output_type": "execute_result"
    }
   ],
   "source": [
    "[[sfida_singola(100,colonna,riga) for colonna in range(1,11)] for riga in range(1,11)]"
   ]
  },
  {
   "cell_type": "code",
   "execution_count": 83,
   "metadata": {},
   "outputs": [
    {
     "data": {
      "text/plain": [
       "53.0"
      ]
     },
     "execution_count": 83,
     "metadata": {},
     "output_type": "execute_result"
    }
   ],
   "source": [
    "sfida_singola(100,1,1)"
   ]
  },
  {
   "cell_type": "code",
   "execution_count": null,
   "metadata": {},
   "outputs": [],
   "source": [
    "f.spl"
   ]
  },
  {
   "cell_type": "code",
   "execution_count": 2,
   "metadata": {},
   "outputs": [
    {
     "data": {
      "text/plain": [
       "'no'"
      ]
     },
     "execution_count": 2,
     "metadata": {},
     "output_type": "execute_result"
    }
   ],
   "source": [
    "a={\"ciao\":\"no\", \"hello\":\"si\"}\n",
    "a[\"ciao\"]"
   ]
  },
  {
   "cell_type": "code",
   "execution_count": null,
   "metadata": {},
   "outputs": [],
   "source": []
  }
 ],
 "metadata": {
  "kernelspec": {
   "display_name": "Python 3",
   "language": "python",
   "name": "python3"
  },
  "language_info": {
   "codemirror_mode": {
    "name": "ipython",
    "version": 3
   },
   "file_extension": ".py",
   "mimetype": "text/x-python",
   "name": "python",
   "nbconvert_exporter": "python",
   "pygments_lexer": "ipython3",
   "version": "3.7.4"
  }
 },
 "nbformat": 4,
 "nbformat_minor": 2
}
